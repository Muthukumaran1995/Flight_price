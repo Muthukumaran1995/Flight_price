{
 "cells": [
  {
   "cell_type": "code",
   "execution_count": 1,
   "id": "05b6251d",
   "metadata": {},
   "outputs": [],
   "source": [
    "import numpy as np\n",
    "import pandas as pd\n",
    "from sklearn.linear_model import LinearRegression, RidgeCV, LassoCV\n",
    "from sklearn.neighbors import KNeighborsRegressor\n",
    "from sklearn.tree import DecisionTreeRegressor\n",
    "from sklearn.ensemble import RandomForestRegressor\n",
    "from sklearn.model_selection import train_test_split\n",
    "from sklearn.ensemble import AdaBoostRegressor, GradientBoostingRegressor, VotingRegressor , StackingRegressor"
   ]
  },
  {
   "cell_type": "code",
   "execution_count": 2,
   "id": "b4bc1918",
   "metadata": {},
   "outputs": [],
   "source": [
    "def rmsle(y_true, y_pred):\n",
    "    return 1 - np.sqrt(np.square(np.log10(y_pred +1) - np.log10(y_true +1)).mean())"
   ]
  },
  {
   "cell_type": "code",
   "execution_count": 3,
   "id": "b1f371fc",
   "metadata": {},
   "outputs": [],
   "source": [
    "train = pd.read_csv('train_preprocessed.csv')\n",
    "test = pd.read_csv('test_preprocessed.csv')"
   ]
  },
  {
   "cell_type": "code",
   "execution_count": 4,
   "id": "b7d03cb5",
   "metadata": {},
   "outputs": [],
   "source": [
    "X = train.drop(columns=['Price'])\n",
    "y = train['Price']"
   ]
  },
  {
   "cell_type": "code",
   "execution_count": 27,
   "id": "11e22392",
   "metadata": {},
   "outputs": [],
   "source": [
    "train_X, test_X, train_y , test_y = train_test_split(X,y,test_size=0.15,random_state=24)"
   ]
  },
  {
   "cell_type": "code",
   "execution_count": 6,
   "id": "11669d53",
   "metadata": {},
   "outputs": [],
   "source": [
    "def run_model_evaluate(model,train_X,train_y,test_X,test_y,X,y,test,filename):\n",
    "    model.fit(train_X , train_y)\n",
    "    train_pred = model.predict(train_X)\n",
    "    test_pred = model.predict(test_X)\n",
    "    print('train_rmsle:', rmsle(train_y , train_pred))\n",
    "    print('test_rmsle:', rmsle(test_y , test_pred))\n",
    "    model.fit(X,y)\n",
    "    pred = model.predict(test)\n",
    "    result =pd.DataFrame(pred , columns=['Price'])\n",
    "    result.to_csv(filename, index=False)"
   ]
  },
  {
   "cell_type": "code",
   "execution_count": null,
   "id": "6a35e19f",
   "metadata": {},
   "outputs": [],
   "source": []
  },
  {
   "cell_type": "code",
   "execution_count": 96,
   "id": "3113f3c0",
   "metadata": {},
   "outputs": [],
   "source": [
    "from sklearn.model_selection import GridSearchCV,RandomizedSearchCV"
   ]
  },
  {
   "cell_type": "code",
   "execution_count": 97,
   "id": "f4bc1eff",
   "metadata": {},
   "outputs": [],
   "source": [
    "parameters = {'n_estimators':[25,50,75,100] , 'max_depth':[1,2,3,4,5,6],'min_samples_leaf':[1,2,3,4,5]}"
   ]
  },
  {
   "cell_type": "code",
   "execution_count": 98,
   "id": "60ed5f5a",
   "metadata": {},
   "outputs": [
    {
     "name": "stdout",
     "output_type": "stream",
     "text": [
      "Fitting 5 folds for each of 120 candidates, totalling 600 fits\n",
      "Wall time: 3min 51s\n"
     ]
    },
    {
     "data": {
      "text/plain": [
       "GridSearchCV(estimator=RandomForestRegressor(),\n",
       "             param_grid={'max_depth': [1, 2, 3, 4, 5, 6],\n",
       "                         'min_samples_leaf': [1, 2, 3, 4, 5],\n",
       "                         'n_estimators': [25, 50, 75, 100]},\n",
       "             scoring='neg_mean_absolute_error', verbose=1)"
      ]
     },
     "execution_count": 98,
     "metadata": {},
     "output_type": "execute_result"
    }
   ],
   "source": [
    "%%time\n",
    "model =RandomForestRegressor()\n",
    "gridsearch= GridSearchCV(model, parameters, verbose =1, scoring='neg_mean_absolute_error')\n",
    "gridsearch.fit(train_X, train_y)"
   ]
  },
  {
   "cell_type": "code",
   "execution_count": 99,
   "id": "d0d6cd0a",
   "metadata": {},
   "outputs": [
    {
     "data": {
      "text/plain": [
       "RandomForestRegressor(max_depth=6, min_samples_leaf=3, n_estimators=75)"
      ]
     },
     "execution_count": 99,
     "metadata": {},
     "output_type": "execute_result"
    }
   ],
   "source": [
    "gridsearch.best_estimator_"
   ]
  },
  {
   "cell_type": "code",
   "execution_count": 100,
   "id": "ba1a8f0c",
   "metadata": {},
   "outputs": [
    {
     "data": {
      "text/plain": [
       "0.9183629488182841"
      ]
     },
     "execution_count": 100,
     "metadata": {},
     "output_type": "execute_result"
    }
   ],
   "source": [
    "train_pred = gridsearch.predict(train_X)\n",
    "rmsle(train_y , train_pred)"
   ]
  },
  {
   "cell_type": "code",
   "execution_count": 101,
   "id": "8da98279",
   "metadata": {},
   "outputs": [
    {
     "data": {
      "text/plain": [
       "0.9152734733997839"
      ]
     },
     "execution_count": 101,
     "metadata": {},
     "output_type": "execute_result"
    }
   ],
   "source": [
    "test_pred = gridsearch.predict(test_X)\n",
    "rmsle(test_y , test_pred)"
   ]
  },
  {
   "cell_type": "code",
   "execution_count": 102,
   "id": "ffcc4058",
   "metadata": {},
   "outputs": [
    {
     "name": "stdout",
     "output_type": "stream",
     "text": [
      "Fitting 5 folds for each of 10 candidates, totalling 50 fits\n",
      "Wall time: 23.9 s\n"
     ]
    },
    {
     "data": {
      "text/plain": [
       "RandomizedSearchCV(cv=5, estimator=RandomForestRegressor(),\n",
       "                   param_distributions={'max_depth': [1, 2, 3, 4, 5, 6],\n",
       "                                        'min_samples_leaf': [1, 2, 3, 4, 5],\n",
       "                                        'n_estimators': [25, 50, 75, 100]},\n",
       "                   scoring='neg_mean_absolute_error', verbose=1)"
      ]
     },
     "execution_count": 102,
     "metadata": {},
     "output_type": "execute_result"
    }
   ],
   "source": [
    "%%time\n",
    "model =RandomForestRegressor()\n",
    "randomsearch = RandomizedSearchCV(model, parameters, cv =5, verbose =1, scoring='neg_mean_absolute_error')\n",
    "randomsearch.fit(train_X, train_y)"
   ]
  },
  {
   "cell_type": "code",
   "execution_count": 103,
   "id": "27283c9a",
   "metadata": {},
   "outputs": [
    {
     "data": {
      "text/plain": [
       "RandomForestRegressor(max_depth=5, min_samples_leaf=3, n_estimators=75)"
      ]
     },
     "execution_count": 103,
     "metadata": {},
     "output_type": "execute_result"
    }
   ],
   "source": [
    "randomsearch.best_estimator_"
   ]
  },
  {
   "cell_type": "code",
   "execution_count": 104,
   "id": "796bc8b5",
   "metadata": {},
   "outputs": [
    {
     "data": {
      "text/plain": [
       "0.9084868794896765"
      ]
     },
     "execution_count": 104,
     "metadata": {},
     "output_type": "execute_result"
    }
   ],
   "source": [
    "train_pred = randomsearch.predict(train_X)\n",
    "rmsle(train_y , train_pred)"
   ]
  },
  {
   "cell_type": "code",
   "execution_count": 105,
   "id": "2939b9a5",
   "metadata": {},
   "outputs": [
    {
     "data": {
      "text/plain": [
       "0.9071197941545098"
      ]
     },
     "execution_count": 105,
     "metadata": {},
     "output_type": "execute_result"
    }
   ],
   "source": [
    "test_pred = randomsearch.predict(test_X)\n",
    "rmsle(test_y , test_pred)"
   ]
  },
  {
   "cell_type": "code",
   "execution_count": 84,
   "id": "0f5f8382",
   "metadata": {},
   "outputs": [
    {
     "name": "stdout",
     "output_type": "stream",
     "text": [
      "train_rmsle: 0.8657215077650018\n",
      "test_rmsle: 0.8476848837880661\n"
     ]
    },
    {
     "name": "stderr",
     "output_type": "stream",
     "text": [
      "C:\\Users\\MUTHUK~1\\AppData\\Local\\Temp/ipykernel_5392/986885743.py:2: RuntimeWarning: invalid value encountered in log10\n",
      "  return 1 - np.sqrt(np.square(np.log10(y_pred +1) - np.log10(y_true +1)).mean())\n"
     ]
    }
   ],
   "source": [
    "linear_reg = LinearRegression()\n",
    "run_model_evaluate(linear_reg,train_X,train_y,test_X,test_y,X,y,test,'flight_price_linear_regression.csv')"
   ]
  },
  {
   "cell_type": "code",
   "execution_count": 85,
   "id": "02a7966c",
   "metadata": {},
   "outputs": [
    {
     "name": "stdout",
     "output_type": "stream",
     "text": [
      "train_rmsle: 0.9090685395482615\n",
      "test_rmsle: 0.8872084217457497\n"
     ]
    }
   ],
   "source": [
    "KNN = KNeighborsRegressor()\n",
    "run_model_evaluate(KNN,train_X,train_y,test_X,test_y,X,y,test,'flight_price_kNN.csv')"
   ]
  },
  {
   "cell_type": "code",
   "execution_count": 38,
   "id": "6a542bdc",
   "metadata": {},
   "outputs": [
    {
     "name": "stdout",
     "output_type": "stream",
     "text": [
      "train_rmsle: 0.951006895642498\n",
      "test_rmsle: 0.933692160218361\n"
     ]
    }
   ],
   "source": [
    "decision_tree = DecisionTreeRegressor(max_depth =12)\n",
    "run_model_evaluate(decision_tree,train_X,train_y,test_X,test_y,X,y,test,'flight_price_decision_tree.csv')"
   ]
  },
  {
   "cell_type": "code",
   "execution_count": null,
   "id": "6589ccf7",
   "metadata": {},
   "outputs": [
    {
     "name": "stdout",
     "output_type": "stream",
     "text": [
      "train_rmsle: 0.9671577138365498\n",
      "test_rmsle: 0.9462701669502811\n"
     ]
    }
   ],
   "source": [
    "Random_forest = RandomForestRegressor(max_depth = 22, min_samples_leaf=2, n_estimators=250)\n",
    "run_model_evaluate(Random_forest,train_X,train_y,test_X,test_y,X,y,test,'flight_price_Random_forest.csv')"
   ]
  },
  {
   "cell_type": "code",
   "execution_count": 88,
   "id": "3dd3defc",
   "metadata": {},
   "outputs": [
    {
     "name": "stdout",
     "output_type": "stream",
     "text": [
      "train_rmsle: 0.7664415341375617\n",
      "test_rmsle: 0.7729036193031404\n"
     ]
    }
   ],
   "source": [
    "Ada_boost = AdaBoostRegressor()\n",
    "run_model_evaluate(Ada_boost,train_X,train_y,test_X,test_y,X,y,test,'flight_price_Ada_Boost.csv')"
   ]
  },
  {
   "cell_type": "code",
   "execution_count": 22,
   "id": "926bb032",
   "metadata": {},
   "outputs": [
    {
     "name": "stdout",
     "output_type": "stream",
     "text": [
      "train_rmsle: 0.9201672555314012\n",
      "test_rmsle: 0.9189781651484619\n"
     ]
    }
   ],
   "source": [
    "gradient_boost = GradientBoostingRegressor()\n",
    "run_model_evaluate(gradient_boost,train_X,train_y,test_X,test_y,X,y,test,'flight_price_Ada_Boost.csv')"
   ]
  },
  {
   "cell_type": "code",
   "execution_count": 8,
   "id": "a7bb147a",
   "metadata": {},
   "outputs": [],
   "source": [
    "model1 =DecisionTreeRegressor()\n",
    "model2 =RandomForestRegressor()\n",
    "model4 = GradientBoostingRegressor()\n",
    "\n",
    "voting = VotingRegressor(estimators=[('dt', model1),('rf',model2),('gra',model4)])\n",
    "\n",
    "               \n",
    "               "
   ]
  },
  {
   "cell_type": "code",
   "execution_count": 9,
   "id": "b5a61164",
   "metadata": {},
   "outputs": [
    {
     "name": "stdout",
     "output_type": "stream",
     "text": [
      "train_rmsle: 0.9661075682932911\n",
      "test_rmsle: 0.9414155292542026\n"
     ]
    }
   ],
   "source": [
    "run_model_evaluate(voting,train_X,train_y,test_X,test_y,X,y,test,'flight_price_voting.csv')"
   ]
  },
  {
   "cell_type": "code",
   "execution_count": 14,
   "id": "6080cb8b",
   "metadata": {},
   "outputs": [],
   "source": [
    "estimators=[('dt', model1),('rf',model2),('gra',model4)]"
   ]
  },
  {
   "cell_type": "code",
   "execution_count": 15,
   "id": "dbb64777",
   "metadata": {},
   "outputs": [],
   "source": [
    "# estimators = [('ridge', RidgeCV()),\n",
    "#         ('lasso', LassoCV(random_state=42)),\n",
    "#             ('knr', KNeighborsRegressor(n_neighbors=20,\n",
    "#                                          metric='euclidean'))]"
   ]
  },
  {
   "cell_type": "code",
   "execution_count": 16,
   "id": "eea1a88e",
   "metadata": {},
   "outputs": [],
   "source": [
    "final_estimator = RandomForestRegressor()\n"
   ]
  },
  {
   "cell_type": "code",
   "execution_count": 17,
   "id": "73144a95",
   "metadata": {},
   "outputs": [],
   "source": [
    "stack =StackingRegressor(estimators=estimators, final_estimator=final_estimator)"
   ]
  },
  {
   "cell_type": "code",
   "execution_count": 18,
   "id": "d6d02d92",
   "metadata": {},
   "outputs": [
    {
     "name": "stdout",
     "output_type": "stream",
     "text": [
      "train_rmsle: 0.9664118301273534\n",
      "test_rmsle: 0.9424739026586505\n"
     ]
    }
   ],
   "source": [
    "run_model_evaluate(stack,train_X,train_y,test_X,test_y,X,y,test,'flight_price_stacking.csv')"
   ]
  },
  {
   "cell_type": "code",
   "execution_count": null,
   "id": "65115709",
   "metadata": {},
   "outputs": [],
   "source": []
  }
 ],
 "metadata": {
  "kernelspec": {
   "display_name": "Python 3 (ipykernel)",
   "language": "python",
   "name": "python3"
  },
  "language_info": {
   "codemirror_mode": {
    "name": "ipython",
    "version": 3
   },
   "file_extension": ".py",
   "mimetype": "text/x-python",
   "name": "python",
   "nbconvert_exporter": "python",
   "pygments_lexer": "ipython3",
   "version": "3.9.7"
  }
 },
 "nbformat": 4,
 "nbformat_minor": 5
}
